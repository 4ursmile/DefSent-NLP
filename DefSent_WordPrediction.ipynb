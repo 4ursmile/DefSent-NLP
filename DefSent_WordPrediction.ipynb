{
  "cells": [
    {
      "cell_type": "code",
      "execution_count": 1,
      "metadata": {
        "colab": {
          "base_uri": "https://localhost:8080/"
        },
        "id": "v2mRk5guvxhw",
        "outputId": "24b3ec87-f4e8-4de1-b14f-9ed626c3aabc"
      },
      "outputs": [
        {
          "output_type": "stream",
          "name": "stdout",
          "text": [
            "Python 3.10.12\n"
          ]
        }
      ],
      "source": [
        "!python --version"
      ]
    },
    {
      "cell_type": "code",
      "execution_count": 2,
      "metadata": {
        "colab": {
          "base_uri": "https://localhost:8080/"
        },
        "id": "qKUMbF29x2BS",
        "outputId": "7f111fe2-a5e6-448c-b790-849b0427a559"
      },
      "outputs": [
        {
          "output_type": "stream",
          "name": "stdout",
          "text": [
            "\r0% [Working]\r            \rGet:1 https://cloud.r-project.org/bin/linux/ubuntu focal-cran40/ InRelease [3,622 B]\n",
            "Hit:2 https://developer.download.nvidia.com/compute/cuda/repos/ubuntu2004/x86_64  InRelease\n",
            "Get:3 http://security.ubuntu.com/ubuntu focal-security InRelease [114 kB]\n",
            "Hit:4 http://archive.ubuntu.com/ubuntu focal InRelease\n",
            "Hit:5 http://ppa.launchpad.net/c2d4u.team/c2d4u4.0+/ubuntu focal InRelease\n",
            "Get:6 http://archive.ubuntu.com/ubuntu focal-updates InRelease [114 kB]\n",
            "Hit:7 http://ppa.launchpad.net/cran/libgit2/ubuntu focal InRelease\n",
            "Get:8 http://ppa.launchpad.net/deadsnakes/ppa/ubuntu focal InRelease [18.1 kB]\n",
            "Get:9 http://archive.ubuntu.com/ubuntu focal-backports InRelease [108 kB]\n",
            "Get:10 http://archive.ubuntu.com/ubuntu focal-updates/universe amd64 Packages [1,360 kB]\n",
            "Hit:11 http://ppa.launchpad.net/graphics-drivers/ppa/ubuntu focal InRelease\n",
            "Hit:12 http://ppa.launchpad.net/ubuntugis/ppa/ubuntu focal InRelease\n",
            "Get:13 http://archive.ubuntu.com/ubuntu focal-updates/main amd64 Packages [3,299 kB]\n",
            "Get:14 http://ppa.launchpad.net/deadsnakes/ppa/ubuntu focal/main amd64 Packages [29.5 kB]\n",
            "Fetched 5,046 kB in 3s (1,794 kB/s)\n",
            "Reading package lists... Done\n"
          ]
        }
      ],
      "source": [
        "!sudo apt-get update -y"
      ]
    },
    {
      "cell_type": "code",
      "execution_count": 3,
      "metadata": {
        "colab": {
          "base_uri": "https://localhost:8080/"
        },
        "id": "f8zgikxtwL0j",
        "outputId": "500062ac-66b3-4add-cea7-729beaacf987"
      },
      "outputs": [
        {
          "output_type": "stream",
          "name": "stdout",
          "text": [
            "Reading package lists... Done\n",
            "Building dependency tree       \n",
            "Reading state information... Done\n",
            "The following additional packages will be installed:\n",
            "  libpython3.7-minimal libpython3.7-stdlib python3.7-minimal\n",
            "Suggested packages:\n",
            "  python3.7-venv binfmt-support\n",
            "The following NEW packages will be installed:\n",
            "  libpython3.7-minimal libpython3.7-stdlib python3.7 python3.7-minimal\n",
            "0 upgraded, 4 newly installed, 0 to remove and 13 not upgraded.\n",
            "Need to get 4,531 kB of archives.\n",
            "After this operation, 23.3 MB of additional disk space will be used.\n",
            "Get:1 http://ppa.launchpad.net/deadsnakes/ppa/ubuntu focal/main amd64 libpython3.7-minimal amd64 3.7.17-1+focal1 [589 kB]\n",
            "Get:2 http://ppa.launchpad.net/deadsnakes/ppa/ubuntu focal/main amd64 python3.7-minimal amd64 3.7.17-1+focal1 [1,808 kB]\n",
            "Get:3 http://ppa.launchpad.net/deadsnakes/ppa/ubuntu focal/main amd64 libpython3.7-stdlib amd64 3.7.17-1+focal1 [1,774 kB]\n",
            "Get:4 http://ppa.launchpad.net/deadsnakes/ppa/ubuntu focal/main amd64 python3.7 amd64 3.7.17-1+focal1 [361 kB]\n",
            "Fetched 4,531 kB in 6s (776 kB/s)\n",
            "debconf: unable to initialize frontend: Dialog\n",
            "debconf: (No usable dialog-like program is installed, so the dialog based frontend cannot be used. at /usr/share/perl5/Debconf/FrontEnd/Dialog.pm line 76, <> line 4.)\n",
            "debconf: falling back to frontend: Readline\n",
            "debconf: unable to initialize frontend: Readline\n",
            "debconf: (This frontend requires a controlling tty.)\n",
            "debconf: falling back to frontend: Teletype\n",
            "dpkg-preconfigure: unable to re-open stdin: \n",
            "Selecting previously unselected package libpython3.7-minimal:amd64.\n",
            "(Reading database ... 123069 files and directories currently installed.)\n",
            "Preparing to unpack .../libpython3.7-minimal_3.7.17-1+focal1_amd64.deb ...\n",
            "Unpacking libpython3.7-minimal:amd64 (3.7.17-1+focal1) ...\n",
            "Selecting previously unselected package python3.7-minimal.\n",
            "Preparing to unpack .../python3.7-minimal_3.7.17-1+focal1_amd64.deb ...\n",
            "Unpacking python3.7-minimal (3.7.17-1+focal1) ...\n",
            "Selecting previously unselected package libpython3.7-stdlib:amd64.\n",
            "Preparing to unpack .../libpython3.7-stdlib_3.7.17-1+focal1_amd64.deb ...\n",
            "Unpacking libpython3.7-stdlib:amd64 (3.7.17-1+focal1) ...\n",
            "Selecting previously unselected package python3.7.\n",
            "Preparing to unpack .../python3.7_3.7.17-1+focal1_amd64.deb ...\n",
            "Unpacking python3.7 (3.7.17-1+focal1) ...\n",
            "Setting up libpython3.7-minimal:amd64 (3.7.17-1+focal1) ...\n",
            "Setting up python3.7-minimal (3.7.17-1+focal1) ...\n",
            "Setting up libpython3.7-stdlib:amd64 (3.7.17-1+focal1) ...\n",
            "Setting up python3.7 (3.7.17-1+focal1) ...\n",
            "Processing triggers for man-db (2.9.1-1) ...\n",
            "Processing triggers for mime-support (3.64ubuntu1) ...\n"
          ]
        }
      ],
      "source": [
        "!sudo apt-get install python3.7"
      ]
    },
    {
      "cell_type": "code",
      "execution_count": 4,
      "metadata": {
        "id": "SeKkgzSGv2Rx"
      },
      "outputs": [],
      "source": [
        "!sudo update-alternatives --install /usr/bin/python3 python3 /usr/bin/python3.7 1"
      ]
    },
    {
      "cell_type": "code",
      "execution_count": 13,
      "metadata": {
        "colab": {
          "base_uri": "https://localhost:8080/"
        },
        "id": "hIa5VpQvwY9O",
        "outputId": "f9a36a46-a093-43b0-87ec-42d0d8f4c295"
      },
      "outputs": [
        {
          "output_type": "stream",
          "name": "stdout",
          "text": [
            "There are 3 choices for the alternative python3 (providing /usr/bin/python3).\n",
            "\n",
            "  Selection    Path                 Priority   Status\n",
            "------------------------------------------------------------\n",
            "* 0            /usr/bin/python3.10   2         auto mode\n",
            "  1            /usr/bin/python3.10   2         manual mode\n",
            "  2            /usr/bin/python3.7    1         manual mode\n",
            "  3            /usr/bin/python3.8    1         manual mode\n",
            "\n",
            "Press <enter> to keep the current choice[*], or type selection number: 2\n",
            "update-alternatives: using /usr/bin/python3.7 to provide /usr/bin/python3 (python3) in manual mode\n"
          ]
        }
      ],
      "source": [
        "!sudo update-alternatives --config python3"
      ]
    },
    {
      "cell_type": "code",
      "execution_count": 11,
      "metadata": {
        "id": "8zja6-CQwih9",
        "colab": {
          "base_uri": "https://localhost:8080/"
        },
        "outputId": "9e19d5ce-fc3a-48fa-867b-034bd2127073"
      },
      "outputs": [
        {
          "output_type": "stream",
          "name": "stdout",
          "text": [
            "Python 3.10.12\n"
          ]
        }
      ],
      "source": [
        "!python --version"
      ]
    },
    {
      "cell_type": "code",
      "execution_count": null,
      "metadata": {
        "colab": {
          "base_uri": "https://localhost:8080/"
        },
        "id": "mKK-2QolwtaH",
        "outputId": "d9efc871-836e-471a-9af4-864becb3ebdf"
      },
      "outputs": [
        {
          "name": "stdout",
          "output_type": "stream",
          "text": [
            "sudo: apt-remove: command not found\n"
          ]
        }
      ],
      "source": [
        "!sudo apt install python3-pip"
      ]
    },
    {
      "cell_type": "code",
      "execution_count": 7,
      "metadata": {
        "colab": {
          "base_uri": "https://localhost:8080/"
        },
        "id": "EZMcKunZyHnl",
        "outputId": "20136407-cbb4-49e2-8b1e-12ad975728c6"
      },
      "outputs": [
        {
          "output_type": "stream",
          "name": "stdout",
          "text": [
            "Looking in indexes: https://pypi.org/simple, https://us-python.pkg.dev/colab-wheels/public/simple/\n",
            "Collecting defsent\n",
            "  Downloading defsent-0.1.0-py3-none-any.whl (3.4 kB)\n",
            "Requirement already satisfied: torch in /usr/local/lib/python3.10/dist-packages (from defsent) (2.0.1+cu118)\n",
            "Collecting transformers (from defsent)\n",
            "  Downloading transformers-4.30.2-py3-none-any.whl (7.2 MB)\n",
            "\u001b[2K     \u001b[90m━━━━━━━━━━━━━━━━━━━━━━━━━━━━━━━━━━━━━━━━\u001b[0m \u001b[32m7.2/7.2 MB\u001b[0m \u001b[31m104.9 MB/s\u001b[0m eta \u001b[36m0:00:00\u001b[0m\n",
            "\u001b[?25hRequirement already satisfied: filelock in /usr/local/lib/python3.10/dist-packages (from torch->defsent) (3.12.2)\n",
            "Requirement already satisfied: typing-extensions in /usr/local/lib/python3.10/dist-packages (from torch->defsent) (4.6.3)\n",
            "Requirement already satisfied: sympy in /usr/local/lib/python3.10/dist-packages (from torch->defsent) (1.11.1)\n",
            "Requirement already satisfied: networkx in /usr/local/lib/python3.10/dist-packages (from torch->defsent) (3.1)\n",
            "Requirement already satisfied: jinja2 in /usr/local/lib/python3.10/dist-packages (from torch->defsent) (3.1.2)\n",
            "Requirement already satisfied: triton==2.0.0 in /usr/local/lib/python3.10/dist-packages (from torch->defsent) (2.0.0)\n",
            "Requirement already satisfied: cmake in /usr/local/lib/python3.10/dist-packages (from triton==2.0.0->torch->defsent) (3.25.2)\n",
            "Requirement already satisfied: lit in /usr/local/lib/python3.10/dist-packages (from triton==2.0.0->torch->defsent) (16.0.6)\n",
            "Collecting huggingface-hub<1.0,>=0.14.1 (from transformers->defsent)\n",
            "  Downloading huggingface_hub-0.15.1-py3-none-any.whl (236 kB)\n",
            "\u001b[2K     \u001b[90m━━━━━━━━━━━━━━━━━━━━━━━━━━━━━━━━━━━━━━\u001b[0m \u001b[32m236.8/236.8 kB\u001b[0m \u001b[31m34.7 MB/s\u001b[0m eta \u001b[36m0:00:00\u001b[0m\n",
            "\u001b[?25hRequirement already satisfied: numpy>=1.17 in /usr/local/lib/python3.10/dist-packages (from transformers->defsent) (1.22.4)\n",
            "Requirement already satisfied: packaging>=20.0 in /usr/local/lib/python3.10/dist-packages (from transformers->defsent) (23.1)\n",
            "Requirement already satisfied: pyyaml>=5.1 in /usr/local/lib/python3.10/dist-packages (from transformers->defsent) (6.0)\n",
            "Requirement already satisfied: regex!=2019.12.17 in /usr/local/lib/python3.10/dist-packages (from transformers->defsent) (2022.10.31)\n",
            "Requirement already satisfied: requests in /usr/local/lib/python3.10/dist-packages (from transformers->defsent) (2.27.1)\n",
            "Collecting tokenizers!=0.11.3,<0.14,>=0.11.1 (from transformers->defsent)\n",
            "  Downloading tokenizers-0.13.3-cp310-cp310-manylinux_2_17_x86_64.manylinux2014_x86_64.whl (7.8 MB)\n",
            "\u001b[2K     \u001b[90m━━━━━━━━━━━━━━━━━━━━━━━━━━━━━━━━━━━━━━━━\u001b[0m \u001b[32m7.8/7.8 MB\u001b[0m \u001b[31m120.8 MB/s\u001b[0m eta \u001b[36m0:00:00\u001b[0m\n",
            "\u001b[?25hCollecting safetensors>=0.3.1 (from transformers->defsent)\n",
            "  Downloading safetensors-0.3.1-cp310-cp310-manylinux_2_17_x86_64.manylinux2014_x86_64.whl (1.3 MB)\n",
            "\u001b[2K     \u001b[90m━━━━━━━━━━━━━━━━━━━━━━━━━━━━━━━━━━━━━━━━\u001b[0m \u001b[32m1.3/1.3 MB\u001b[0m \u001b[31m67.4 MB/s\u001b[0m eta \u001b[36m0:00:00\u001b[0m\n",
            "\u001b[?25hRequirement already satisfied: tqdm>=4.27 in /usr/local/lib/python3.10/dist-packages (from transformers->defsent) (4.65.0)\n",
            "Requirement already satisfied: fsspec in /usr/local/lib/python3.10/dist-packages (from huggingface-hub<1.0,>=0.14.1->transformers->defsent) (2023.6.0)\n",
            "Requirement already satisfied: MarkupSafe>=2.0 in /usr/local/lib/python3.10/dist-packages (from jinja2->torch->defsent) (2.1.3)\n",
            "Requirement already satisfied: urllib3<1.27,>=1.21.1 in /usr/local/lib/python3.10/dist-packages (from requests->transformers->defsent) (1.26.16)\n",
            "Requirement already satisfied: certifi>=2017.4.17 in /usr/local/lib/python3.10/dist-packages (from requests->transformers->defsent) (2023.5.7)\n",
            "Requirement already satisfied: charset-normalizer~=2.0.0 in /usr/local/lib/python3.10/dist-packages (from requests->transformers->defsent) (2.0.12)\n",
            "Requirement already satisfied: idna<4,>=2.5 in /usr/local/lib/python3.10/dist-packages (from requests->transformers->defsent) (3.4)\n",
            "Requirement already satisfied: mpmath>=0.19 in /usr/local/lib/python3.10/dist-packages (from sympy->torch->defsent) (1.3.0)\n",
            "Installing collected packages: tokenizers, safetensors, huggingface-hub, transformers, defsent\n",
            "Successfully installed defsent-0.1.0 huggingface-hub-0.15.1 safetensors-0.3.1 tokenizers-0.13.3 transformers-4.30.2\n"
          ]
        }
      ],
      "source": [
        "!pip install defsent"
      ]
    },
    {
      "cell_type": "code",
      "execution_count": 8,
      "metadata": {
        "colab": {
          "base_uri": "https://localhost:8080/"
        },
        "id": "CXSBpMUlxFP9",
        "outputId": "de32cfd7-28cf-4391-cfdb-80d405eda07c"
      },
      "outputs": [
        {
          "output_type": "stream",
          "name": "stdout",
          "text": [
            "Cloning into 'defsent'...\n",
            "remote: Enumerating objects: 135, done.\u001b[K\n",
            "remote: Counting objects: 100% (135/135), done.\u001b[K\n",
            "remote: Compressing objects: 100% (78/78), done.\u001b[K\n",
            "remote: Total 135 (delta 49), reused 131 (delta 45), pack-reused 0\u001b[K\n",
            "Receiving objects: 100% (135/135), 1.11 MiB | 19.22 MiB/s, done.\n",
            "Resolving deltas: 100% (49/49), done.\n"
          ]
        }
      ],
      "source": [
        "!git clone https://github.com/hppRC/defsent"
      ]
    },
    {
      "cell_type": "code",
      "execution_count": 9,
      "metadata": {
        "colab": {
          "base_uri": "https://localhost:8080/"
        },
        "id": "zXVkbA74xN3Z",
        "outputId": "2deab717-6a87-4a17-cc29-4431c4b9ea26"
      },
      "outputs": [
        {
          "output_type": "stream",
          "name": "stdout",
          "text": [
            "\u001b[36mRetrieving Poetry metadata\u001b[0m\n",
            "\n",
            "# Welcome to \u001b[36mPoetry\u001b[0m!\n",
            "\n",
            "This will download and install the latest version of \u001b[36mPoetry\u001b[0m,\n",
            "a dependency and package manager for Python.\n",
            "\n",
            "It will add the `poetry` command to \u001b[36mPoetry\u001b[0m's bin directory, located at:\n",
            "\n",
            "\u001b[33m/root/.local/bin\u001b[0m\n",
            "\n",
            "You can uninstall at any time by executing this script with the --uninstall option,\n",
            "and these changes will be reverted.\n",
            "\n",
            "Installing \u001b[36mPoetry\u001b[0m (\u001b[36m1.5.1\u001b[0m)\n",
            "\u001b[1A\u001b[2KInstalling \u001b[36mPoetry\u001b[0m (\u001b[1m1.5.1\u001b[0m): \u001b[33mCreating environment\u001b[0m\n",
            "\u001b[1A\u001b[2KInstalling \u001b[36mPoetry\u001b[0m (\u001b[1m1.5.1\u001b[0m): \u001b[33mInstalling Poetry\u001b[0m\n",
            "\u001b[1A\u001b[2KInstalling \u001b[36mPoetry\u001b[0m (\u001b[1m1.5.1\u001b[0m): \u001b[33mCreating script\u001b[0m\n",
            "\u001b[1A\u001b[2KInstalling \u001b[36mPoetry\u001b[0m (\u001b[1m1.5.1\u001b[0m): \u001b[33mDone\u001b[0m\n",
            "\n",
            "\u001b[36mPoetry\u001b[0m (\u001b[1m1.5.1\u001b[0m) is installed now. Great!\n",
            "\n",
            "To get started you need \u001b[36mPoetry\u001b[0m's bin directory (\u001b[33m/root/.local/bin\u001b[0m) in your `PATH`\n",
            "environment variable.\n",
            "\n",
            "Add `export PATH=\"\u001b[33m/root/.local/bin\u001b[0m:$PATH\"` to your shell configuration file.\n",
            "\n",
            "Alternatively, you can call \u001b[36mPoetry\u001b[0m explicitly with `\u001b[1m/root/.local/bin/poetry\u001b[0m`.\n",
            "\n",
            "You can test that everything is set up by executing:\n",
            "\n",
            "`\u001b[1mpoetry --version\u001b[0m`\n",
            "\n"
          ]
        }
      ],
      "source": [
        "!curl -sSL https://install.python-poetry.org | python3 -"
      ]
    },
    {
      "cell_type": "code",
      "execution_count": 10,
      "metadata": {
        "colab": {
          "base_uri": "https://localhost:8080/"
        },
        "id": "zQIUk9kDy-Tl",
        "outputId": "d4df320a-fd94-4759-f293-6ccaf200a0b5"
      },
      "outputs": [
        {
          "output_type": "stream",
          "name": "stdout",
          "text": [
            "/content/defsent/experiments\n"
          ]
        }
      ],
      "source": [
        "%cd ./defsent/experiments/"
      ]
    },
    {
      "cell_type": "code",
      "execution_count": 14,
      "metadata": {
        "colab": {
          "base_uri": "https://localhost:8080/"
        },
        "id": "K5VAMmC7zIBb",
        "outputId": "4a114dff-d217-4246-dced-728ecda0f32b"
      },
      "outputs": [
        {
          "output_type": "stream",
          "name": "stdout",
          "text": [
            "The currently activated Python version 3.10.12 is not supported by the project (^3.7,<3.10).\n",
            "Trying to find and use a compatible version. \n",
            "Using python3 (3.7.17)\n",
            "Creating virtualenv defsent/experiments-oWSSDYwQ-py3.7 in /root/.cache/pypoetry/virtualenvs\n",
            "Installing dependencies from lock file\n",
            "\n",
            "Package operations: 110 installs, 0 updates, 0 removals\n",
            "\n",
            "  • Installing certifi (2021.5.30)\n",
            "  • Installing charset-normalizer (2.0.3)\n",
            "  • Installing idna (3.2)\n",
            "  • Installing pyasn1 (0.4.8)\n",
            "  • Installing typing-extensions (3.10.0.0)\n",
            "  • Installing urllib3 (1.26.6)\n",
            "  • Installing zipp (3.5.0)\n",
            "  • Installing cachetools (4.2.2)\n",
            "  • Installing markupsafe (2.0.1)\n",
            "  • Installing multidict (5.1.0)\n",
            "  • Installing importlib-metadata (4.6.1)\n",
            "  • Installing oauthlib (3.1.1)\n",
            "  • Installing pyasn1-modules (0.2.8)\n",
            "  • Installing requests (2.26.0)\n",
            "  • Installing rsa (4.7.2)\n",
            "  • Installing six (1.16.0)\n",
            "  • Installing antlr4-python3-runtime (4.8)\n",
            "  • Installing async-timeout (3.0.1)\n",
            "  • Installing attrs (21.2.0)\n",
            "  • Installing chardet (4.0.0)\n",
            "  • Installing click (8.0.1)\n",
            "  • Installing google-auth (1.33.1)\n",
            "  • Installing greenlet (1.1.0)\n",
            "  • Installing itsdangerous (2.0.1)\n",
            "  • Installing jinja2 (3.0.1)\n",
            "  • Installing mccabe (0.6.1)\n",
            "  • Installing numpy (1.21.1)\n",
            "  • Installing pycodestyle (2.7.0)\n",
            "  • Installing pyflakes (2.3.1)\n",
            "  • Installing pyparsing (2.4.7)\n",
            "  • Installing pyyaml (5.4.1)\n",
            "  • Installing requests-oauthlib (1.3.0)\n",
            "  • Installing smmap (4.0.0)\n",
            "  • Installing werkzeug (2.0.1)\n",
            "  • Installing yarl (1.6.3)\n",
            "  • Installing absl-py (0.13.0)\n",
            "  • Installing aiohttp (3.7.4.post0)\n",
            "  • Installing appdirs (1.4.4)\n",
            "  • Installing filelock (3.0.12)\n",
            "  • Installing flask (2.0.1)\n",
            "  • Installing flake8 (3.9.2)\n",
            "  • Installing gitdb (4.0.7)\n",
            "  • Installing google-auth-oauthlib (0.4.4)\n",
            "  • Installing grpcio (1.39.0)\n",
            "  • Installing importlib-resources (5.2.0)\n",
            "  • Installing joblib (1.0.1)\n",
            "  • Installing mako (1.1.4)\n",
            "  • Installing markdown (3.3.4)\n",
            "  • Installing mypy-extensions (0.4.3)\n",
            "  • Installing omegaconf (2.1.0)\n",
            "  • Installing packaging (21.0)\n",
            "  • Installing pathspec (0.9.0)\n",
            "  • Installing prometheus-client (0.11.0)\n",
            "  • Installing protobuf (3.17.3)\n",
            "  • Installing python-dateutil (2.8.2)\n",
            "  • Installing python-editor (1.0.4)\n",
            "  • Installing pytz (2021.1)\n",
            "  • Installing regex (2021.7.6)\n",
            "  • Installing scipy (1.7.0)\n",
            "  • Installing sqlalchemy (1.4.22)\n",
            "  • Installing tabulate (0.8.9)\n",
            "  • Installing tensorboard-plugin-wit (1.8.0)\n",
            "  • Installing threadpoolctl (2.2.0)\n",
            "  • Installing toml (0.10.2)\n",
            "  • Installing torch (1.9.0+cu111 https://download.pytorch.org/whl/cu111/torch-1.9.0%2Bcu111-cp37-cp37m-linux_x86_64.whl)\n",
            "  • Installing tqdm (4.61.2)\n",
            "  • Installing typed-ast (1.4.3)\n",
            "  • Installing websocket-client (1.1.0)\n",
            "  • Installing alembic (1.4.1)\n",
            "  • Installing black (20.8b1)\n",
            "  • Installing cloudpickle (1.6.0)\n",
            "  • Installing colorlog (4.8.0)\n",
            "  • Installing dacite (1.6.0)\n",
            "  • Installing databricks-cli (0.14.3)\n",
            "  • Installing docker (5.0.0)\n",
            "  • Installing entrypoints (0.3)\n",
            "  • Installing flake8-bugbear (21.4.3)\n",
            "  • Installing fsspec (2021.7.0)\n",
            "  • Installing future (0.18.2)\n",
            "  • Installing gitpython (3.1.19)\n",
            "  • Installing gunicorn (20.1.0)\n",
            "  • Installing huggingface-hub (0.0.12)\n",
            "  • Installing hydra-core (1.1.0)\n",
            "  • Installing isort (5.1.4)\n",
            "  • Installing more-itertools (8.8.0)\n",
            "  • Installing mypy (0.790)\n",
            "  • Installing pandas (1.1.5)\n",
            "  • Installing pillow (8.3.1)\n",
            "  • Installing pluggy (0.13.1)\n",
            "  • Installing prometheus-flask-exporter (0.18.2)\n",
            "  • Installing py (1.10.0)\n",
            "  • Installing pydeprecate (0.3.0)\n",
            "  • Installing querystring-parser (1.2.4)\n",
            "  • Installing sacremoses (0.0.45)\n",
            "  • Installing scikit-learn (0.24.2)\n",
            "  • Installing sqlparse (0.4.1)\n",
            "  • Installing tensorboard (2.4.1)\n",
            "  • Installing tokenizers (0.10.3)\n",
            "  • Installing tomlkit (0.7.2)\n",
            "  • Installing torchmetrics (0.4.1)\n",
            "  • Installing unidiff (0.6.0)\n",
            "  • Installing wcwidth (0.2.5)\n",
            "  • Installing hydra-colorlog (1.1.0)\n",
            "  • Installing mlflow (1.19.0)\n",
            "  • Installing pysen (0.9.1)\n",
            "  • Installing pytest (5.4.3)\n",
            "  • Installing pytorch-lightning (1.3.8)\n",
            "  • Installing senteval (0.1.0 5d6dc11)\n",
            "  • Installing sklearn (0.0)\n",
            "  • Installing transformers (4.9.1)\n",
            "Warning: The file chosen for install of gitpython 3.1.19 (GitPython-3.1.19-py3-none-any.whl) is yanked. Reason for being yanked: 3.1.19wrong version  for typing break installation \n"
          ]
        }
      ],
      "source": [
        "!/root/.local/bin/poetry --no-ansi install"
      ]
    },
    {
      "cell_type": "code",
      "execution_count": 12,
      "metadata": {
        "colab": {
          "base_uri": "https://localhost:8080/"
        },
        "id": "XSnF0bFUzVKF",
        "outputId": "e4df535a-3a17-4cd9-f960-fcd81247140d"
      },
      "outputs": [
        {
          "output_type": "stream",
          "name": "stdout",
          "text": [
            "--2023-06-26 06:45:51--  http://www.tkl.iis.u-tokyo.ac.jp/~ishiwatari/naacl_data.zip\n",
            "Resolving www.tkl.iis.u-tokyo.ac.jp (www.tkl.iis.u-tokyo.ac.jp)... 157.82.157.21\n",
            "Connecting to www.tkl.iis.u-tokyo.ac.jp (www.tkl.iis.u-tokyo.ac.jp)|157.82.157.21|:80... connected.\n",
            "HTTP request sent, awaiting response... 200 OK\n",
            "Length: 1270184463 (1.2G) [application/zip]\n",
            "Saving to: ‘naacl_data.zip’\n",
            "\n",
            "naacl_data.zip      100%[===================>]   1.18G  11.5MB/s    in 1m 49s  \n",
            "\n",
            "2023-06-26 06:47:40 (11.2 MB/s) - ‘naacl_data.zip’ saved [1270184463/1270184463]\n",
            "\n",
            "Archive:  naacl_data.zip\n",
            "   creating: data/\n",
            "   creating: data/slang/\n",
            "  inflating: data/slang/valid.txt    \n",
            "  inflating: data/slang/test.eg      \n",
            "  inflating: data/slang/README.md    \n",
            "  inflating: data/slang/train.txt    \n",
            "  inflating: data/slang/test.txt     \n",
            "  inflating: data/slang/train.txt.vocab  \n",
            "  inflating: data/slang/train.eg     \n",
            "  inflating: data/slang/composed.vec  \n",
            "  inflating: data/slang/train.txt.char  \n",
            "  inflating: data/slang/valid.eg     \n",
            "   creating: data/slang/orig/\n",
            " extracting: data/slang/orig/slang_ijcnlp.zip  \n",
            "  inflating: data/slang/orig/train.tsv  \n",
            "  inflating: data/slang/orig/test.tsv  \n",
            "   creating: data/wiki/\n",
            "  inflating: data/wiki/valid.txt     \n",
            "  inflating: data/wiki/test.txt.tmp  \n",
            "  inflating: data/wiki/test.eg       \n",
            "  inflating: data/wiki/merged.jsonlines  \n",
            "  inflating: data/wiki/train.txt     \n",
            "  inflating: data/wiki/test.txt      \n",
            "  inflating: data/wiki/train.txt.vocab  \n",
            "  inflating: data/wiki/train.eg      \n",
            "  inflating: data/wiki/composed.vec  \n",
            "  inflating: data/wiki/train.txt.char  \n",
            "  inflating: data/wiki/valid.eg      \n",
            "   creating: data/oxford/\n",
            "  inflating: data/oxford/valid.txt   \n",
            "  inflating: data/oxford/test.txt.tmp  \n",
            "  inflating: data/oxford/test.eg     \n",
            "  inflating: data/oxford/filtered.vec  \n",
            "  inflating: data/oxford/train.txt   \n",
            "  inflating: data/oxford/test.txt    \n",
            "  inflating: data/oxford/train.txt.vocab  \n",
            "  inflating: data/oxford/train.eg    \n",
            "  inflating: data/oxford/train.txt.char  \n",
            "  inflating: data/oxford/valid.eg    \n",
            "   creating: data/oxford/orig/\n",
            "  inflating: data/oxford/orig/train.json  \n",
            "  inflating: data/oxford/orig/valid.json  \n",
            "  inflating: data/oxford/orig/test.json  \n",
            "   creating: data/wordnet/\n",
            "  inflating: data/wordnet/valid.txt  \n",
            "  inflating: data/wordnet/test.txt.tmp  \n",
            "  inflating: data/wordnet/all.txt    \n",
            "  inflating: data/wordnet/test.eg    \n",
            "  inflating: data/wordnet/filtered.vec  \n",
            "  inflating: data/wordnet/train.txt  \n",
            "  inflating: data/wordnet/test.txt   \n",
            "  inflating: data/wordnet/train.txt.vocab  \n",
            "  inflating: data/wordnet/train.eg   \n",
            "  inflating: data/wordnet/train.txt.char  \n",
            "  inflating: data/wordnet/valid.eg   \n",
            "--2023-06-26 06:48:23--  http://ixa2.si.ehu.es/stswiki/images/4/40/STS2012-en-test.zip\n",
            "Resolving ixa2.si.ehu.es (ixa2.si.ehu.es)... 158.227.106.100\n",
            "Connecting to ixa2.si.ehu.es (ixa2.si.ehu.es)|158.227.106.100|:80... connected.\n",
            "HTTP request sent, awaiting response... 302 Found\n",
            "Location: http://ixa2.si.ehu.eus/stswiki/images/4/40/STS2012-en-test.zip [following]\n",
            "--2023-06-26 06:48:24--  http://ixa2.si.ehu.eus/stswiki/images/4/40/STS2012-en-test.zip\n",
            "Resolving ixa2.si.ehu.eus (ixa2.si.ehu.eus)... 158.227.106.100\n",
            "Connecting to ixa2.si.ehu.eus (ixa2.si.ehu.eus)|158.227.106.100|:80... connected.\n",
            "HTTP request sent, awaiting response... 200 OK\n",
            "Length: 113322 (111K) [application/zip]\n",
            "Saving to: ‘STS2012-en-test.zip’\n",
            "\n",
            "STS2012-en-test.zip 100%[===================>] 110.67K   122KB/s    in 0.9s    \n",
            "\n",
            "2023-06-26 06:48:26 (122 KB/s) - ‘STS2012-en-test.zip’ saved [113322/113322]\n",
            "\n",
            "Archive:  STS2012-en-test.zip\n",
            "   creating: test-gold/\n",
            "  inflating: test-gold/00-readme.txt  \n",
            "  inflating: test-gold/STS.gs.ALL.txt  \n",
            "  inflating: test-gold/STS.gs.MSRpar.txt  \n",
            "  inflating: test-gold/STS.gs.MSRvid.txt  \n",
            "  inflating: test-gold/STS.gs.SMTeuroparl.txt  \n",
            "  inflating: test-gold/STS.gs.surprise.OnWN.txt  \n",
            "  inflating: test-gold/STS.gs.surprise.SMTnews.txt  \n",
            "  inflating: test-gold/STS.input.MSRpar.txt  \n",
            "  inflating: test-gold/STS.input.MSRvid.txt  \n",
            "  inflating: test-gold/STS.input.SMTeuroparl.txt  \n",
            "  inflating: test-gold/STS.input.surprise.OnWN.txt  \n",
            "  inflating: test-gold/STS.input.surprise.SMTnews.txt  \n",
            "--2023-06-26 06:48:26--  http://ixa2.si.ehu.es/stswiki/images/2/2f/STS2013-en-test.zip\n",
            "Resolving ixa2.si.ehu.es (ixa2.si.ehu.es)... 158.227.106.100\n",
            "Connecting to ixa2.si.ehu.es (ixa2.si.ehu.es)|158.227.106.100|:80... connected.\n",
            "HTTP request sent, awaiting response... 302 Found\n",
            "Location: http://ixa2.si.ehu.eus/stswiki/images/2/2f/STS2013-en-test.zip [following]\n",
            "--2023-06-26 06:48:26--  http://ixa2.si.ehu.eus/stswiki/images/2/2f/STS2013-en-test.zip\n",
            "Resolving ixa2.si.ehu.eus (ixa2.si.ehu.eus)... 158.227.106.100\n",
            "Connecting to ixa2.si.ehu.eus (ixa2.si.ehu.eus)|158.227.106.100|:80... connected.\n",
            "HTTP request sent, awaiting response... 200 OK\n",
            "Length: 76462 (75K) [application/zip]\n",
            "Saving to: ‘STS2013-en-test.zip’\n",
            "\n",
            "STS2013-en-test.zip 100%[===================>]  74.67K   115KB/s    in 0.7s    \n",
            "\n",
            "2023-06-26 06:48:27 (115 KB/s) - ‘STS2013-en-test.zip’ saved [76462/76462]\n",
            "\n",
            "Archive:  STS2013-en-test.zip\n",
            "   creating: test-gs/\n",
            "  inflating: test-gs/00-readme.txt   \n",
            "  inflating: test-gs/STS.gs.FNWN.txt  \n",
            "  inflating: test-gs/STS.gs.OnWN.txt  \n",
            "  inflating: test-gs/STS.gs.SMT.txt  \n",
            "  inflating: test-gs/STS.gs.headlines.txt  \n",
            "  inflating: test-gs/STS.input.FNWN.txt  \n",
            "  inflating: test-gs/STS.input.OnWN.txt  \n",
            "  inflating: test-gs/STS.input.headlines.txt  \n",
            "  inflating: test-gs/STS.output.FNWN.txt  \n",
            "  inflating: test-gs/STS.output.OnWN.txt  \n",
            "  inflating: test-gs/STS.output.SMT.txt  \n",
            "  inflating: test-gs/STS.output.headlines.txt  \n",
            "  inflating: test-gs/correct-output.pl  \n",
            "  inflating: test-gs/correlation-all.pl  \n",
            "  inflating: test-gs/correlation.pl  \n",
            "--2023-06-26 06:48:27--  http://ixa2.si.ehu.es/stswiki/images/8/8c/STS2014-en-test.zip\n",
            "Resolving ixa2.si.ehu.es (ixa2.si.ehu.es)... 158.227.106.100\n",
            "Connecting to ixa2.si.ehu.es (ixa2.si.ehu.es)|158.227.106.100|:80... connected.\n",
            "HTTP request sent, awaiting response... 302 Found\n",
            "Location: http://ixa2.si.ehu.eus/stswiki/images/8/8c/STS2014-en-test.zip [following]\n",
            "--2023-06-26 06:48:28--  http://ixa2.si.ehu.eus/stswiki/images/8/8c/STS2014-en-test.zip\n",
            "Resolving ixa2.si.ehu.eus (ixa2.si.ehu.eus)... 158.227.106.100\n",
            "Connecting to ixa2.si.ehu.eus (ixa2.si.ehu.eus)|158.227.106.100|:80... connected.\n",
            "HTTP request sent, awaiting response... 200 OK\n",
            "Length: 471954 (461K) [application/zip]\n",
            "Saving to: ‘STS2014-en-test.zip’\n",
            "\n",
            "STS2014-en-test.zip 100%[===================>] 460.89K   328KB/s    in 1.4s    \n",
            "\n",
            "2023-06-26 06:48:30 (328 KB/s) - ‘STS2014-en-test.zip’ saved [471954/471954]\n",
            "\n",
            "Archive:  STS2014-en-test.zip\n",
            "  inflating: sts-en-test-gs-2014/STS.input.deft-forum.txt  \n",
            "  inflating: sts-en-test-gs-2014/correlation-noconfidence.pl  \n",
            "  inflating: sts-en-test-gs-2014/STS.input.deft-news.txt  \n",
            "  inflating: sts-en-test-gs-2014/STS.input.headlines.txt  \n",
            "  inflating: sts-en-test-gs-2014/STS.input.images.txt  \n",
            "  inflating: sts-en-test-gs-2014/STS.input.OnWN.txt  \n",
            "  inflating: sts-en-test-gs-2014/STS.input.tweet-news.txt  \n",
            "  inflating: sts-en-test-gs-2014/STS.output.headlines.txt  \n",
            "  inflating: sts-en-test-gs-2014/sts2012-test.tgz  \n",
            "  inflating: sts-en-test-gs-2014/sts2012-train.tgz  \n",
            "  inflating: sts-en-test-gs-2014/sts2013-test.tgz  \n",
            "  inflating: sts-en-test-gs-2014/STS.gs.deft-forum.txt  \n",
            "  inflating: sts-en-test-gs-2014/STS.gs.deft-news.txt  \n",
            "  inflating: sts-en-test-gs-2014/STS.gs.headlines.txt  \n",
            "  inflating: sts-en-test-gs-2014/STS.gs.images.txt  \n",
            "  inflating: sts-en-test-gs-2014/STS.gs.OnWN.txt  \n",
            "  inflating: sts-en-test-gs-2014/STS.gs.tweet-news.txt  \n",
            "  inflating: sts-en-test-gs-2014/00-readme.txt  \n",
            "--2023-06-26 06:48:30--  http://ixa2.si.ehu.es/stswiki/images/d/da/STS2015-en-test.zip\n",
            "Resolving ixa2.si.ehu.es (ixa2.si.ehu.es)... 158.227.106.100\n",
            "Connecting to ixa2.si.ehu.es (ixa2.si.ehu.es)|158.227.106.100|:80... connected.\n",
            "HTTP request sent, awaiting response... 302 Found\n",
            "Location: http://ixa2.si.ehu.eus/stswiki/images/d/da/STS2015-en-test.zip [following]\n",
            "--2023-06-26 06:48:30--  http://ixa2.si.ehu.eus/stswiki/images/d/da/STS2015-en-test.zip\n",
            "Resolving ixa2.si.ehu.eus (ixa2.si.ehu.eus)... 158.227.106.100\n",
            "Connecting to ixa2.si.ehu.eus (ixa2.si.ehu.eus)|158.227.106.100|:80... connected.\n",
            "HTTP request sent, awaiting response... 200 OK\n",
            "Length: 708205 (692K) [application/zip]\n",
            "Saving to: ‘STS2015-en-test.zip’\n",
            "\n",
            "STS2015-en-test.zip 100%[===================>] 691.61K   440KB/s    in 1.6s    \n",
            "\n",
            "2023-06-26 06:48:32 (440 KB/s) - ‘STS2015-en-test.zip’ saved [708205/708205]\n",
            "\n",
            "Archive:  STS2015-en-test.zip\n",
            "   creating: test_evaluation_task2a/\n",
            "  inflating: test_evaluation_task2a/00-readme.txt  \n",
            "  inflating: test_evaluation_task2a/STS.answers-forums.zip  \n",
            "  inflating: test_evaluation_task2a/STS.gs.answers-forums.txt  \n",
            "  inflating: test_evaluation_task2a/STS.gs.answers-students.txt  \n",
            "  inflating: test_evaluation_task2a/STS.gs.belief.txt  \n",
            "  inflating: test_evaluation_task2a/STS.gs.headlines.txt  \n",
            "  inflating: test_evaluation_task2a/STS.gs.images.txt  \n",
            "  inflating: test_evaluation_task2a/STS.input.answers-forums.LICENSE  \n",
            "  inflating: test_evaluation_task2a/STS.input.answers-forums.txt  \n",
            "  inflating: test_evaluation_task2a/STS.input.answers-students.txt  \n",
            "  inflating: test_evaluation_task2a/STS.input.belief.txt  \n",
            "  inflating: test_evaluation_task2a/STS.input.headlines.txt  \n",
            "  inflating: test_evaluation_task2a/STS.input.images.txt  \n",
            " extracting: test_evaluation_task2a/corebaseline-tokencos.tar.gz  \n",
            "  inflating: test_evaluation_task2a/correlation-noconfidence.pl  \n",
            "--2023-06-26 06:48:32--  http://ixa2.si.ehu.es/stswiki/images/9/98/STS2016-en-test.zip\n",
            "Resolving ixa2.si.ehu.es (ixa2.si.ehu.es)... 158.227.106.100\n",
            "Connecting to ixa2.si.ehu.es (ixa2.si.ehu.es)|158.227.106.100|:80... connected.\n",
            "HTTP request sent, awaiting response... 302 Found\n",
            "Location: http://ixa2.si.ehu.eus/stswiki/images/9/98/STS2016-en-test.zip [following]\n",
            "--2023-06-26 06:48:33--  http://ixa2.si.ehu.eus/stswiki/images/9/98/STS2016-en-test.zip\n",
            "Resolving ixa2.si.ehu.eus (ixa2.si.ehu.eus)... 158.227.106.100\n",
            "Connecting to ixa2.si.ehu.eus (ixa2.si.ehu.eus)|158.227.106.100|:80... connected.\n",
            "HTTP request sent, awaiting response... 200 OK\n",
            "Length: 1184249 (1.1M) [application/zip]\n",
            "Saving to: ‘STS2016-en-test.zip’\n",
            "\n",
            "STS2016-en-test.zip 100%[===================>]   1.13M   558KB/s    in 2.1s    \n",
            "\n",
            "2023-06-26 06:48:35 (558 KB/s) - ‘STS2016-en-test.zip’ saved [1184249/1184249]\n",
            "\n",
            "Archive:  STS2016-en-test.zip\n",
            "  inflating: sts2016-english-with-gs-v1.0/README.txt  \n",
            "  inflating: sts2016-english-with-gs-v1.0/STS2016.input.question-question.txt  \n",
            "  inflating: sts2016-english-with-gs-v1.0/STS2016.input.postediting.txt  \n",
            "  inflating: sts2016-english-with-gs-v1.0/STS2016.input.headlines.txt  \n",
            "  inflating: sts2016-english-with-gs-v1.0/STS2016.input.question-question.ascii  \n",
            "  inflating: sts2016-english-with-gs-v1.0/STS2016.input.headlines.ascii  \n",
            "  inflating: sts2016-english-with-gs-v1.0/STS2016.input.plagiarism.txt  \n",
            "  inflating: sts2016-english-with-gs-v1.0/LICENSE.txt  \n",
            "  inflating: sts2016-english-with-gs-v1.0/STS2016.gs.question-question.txt  \n",
            "  inflating: sts2016-english-with-gs-v1.0/STS2016.input.plagiarism.ascii  \n",
            "  inflating: sts2016-english-with-gs-v1.0/STS2016.input.answer-answer.txt  \n",
            "  inflating: sts2016-english-with-gs-v1.0/STS2016.gs.postediting.txt  \n",
            "  inflating: sts2016-english-with-gs-v1.0/STS2016.input.postediting.ascii  \n",
            "  inflating: sts2016-english-with-gs-v1.0/STS2016.input.answer-answer.ascii  \n",
            "  inflating: sts2016-english-with-gs-v1.0/STS2016.gs.headlines.txt  \n",
            "  inflating: sts2016-english-with-gs-v1.0/STS2016.gs.plagiarism.txt  \n",
            "  inflating: sts2016-english-with-gs-v1.0/STS2016.gs.answer-answer.txt  \n",
            "  inflating: sts2016-english-with-gs-v1.0/correlation-noconfidence.pl  \n",
            "--2023-06-26 06:48:35--  http://ixa2.si.ehu.es/stswiki/images/2/20/Sts2017.eval.v1.1.zip\n",
            "Resolving ixa2.si.ehu.es (ixa2.si.ehu.es)... 158.227.106.100\n",
            "Connecting to ixa2.si.ehu.es (ixa2.si.ehu.es)|158.227.106.100|:80... connected.\n",
            "HTTP request sent, awaiting response... 302 Found\n",
            "Location: http://ixa2.si.ehu.eus/stswiki/images/2/20/Sts2017.eval.v1.1.zip [following]\n",
            "--2023-06-26 06:48:36--  http://ixa2.si.ehu.eus/stswiki/images/2/20/Sts2017.eval.v1.1.zip\n",
            "Resolving ixa2.si.ehu.eus (ixa2.si.ehu.eus)... 158.227.106.100\n",
            "Connecting to ixa2.si.ehu.eus (ixa2.si.ehu.eus)|158.227.106.100|:80... connected.\n",
            "HTTP request sent, awaiting response... 200 OK\n",
            "Length: 87902 (86K) [application/zip]\n",
            "Saving to: ‘Sts2017.eval.v1.1.zip’\n",
            "\n",
            "Sts2017.eval.v1.1.z 100%[===================>]  85.84K   126KB/s    in 0.7s    \n",
            "\n",
            "2023-06-26 06:48:37 (126 KB/s) - ‘Sts2017.eval.v1.1.zip’ saved [87902/87902]\n",
            "\n",
            "Archive:  Sts2017.eval.v1.1.zip\n",
            "  inflating: STS2017.eval.v1.1/LICENSE.txt  \n",
            "  inflating: STS2017.eval.v1.1/README.txt  \n",
            "  inflating: STS2017.eval.v1.1/STS.input.track1.ar-ar.txt  \n",
            "  inflating: STS2017.eval.v1.1/STS.input.track2.ar-en.txt  \n",
            "  inflating: STS2017.eval.v1.1/STS.input.track3.es-es.txt  \n",
            "  inflating: STS2017.eval.v1.1/STS.input.track4a.es-en.txt  \n",
            "  inflating: STS2017.eval.v1.1/STS.input.track4b.es-en.txt  \n",
            "  inflating: STS2017.eval.v1.1/STS.input.track5.en-en.txt  \n",
            "  inflating: STS2017.eval.v1.1/STS.input.track6.tr-en.txt  \n",
            "--2023-06-26 06:48:37--  http://ixa2.si.ehu.es/stswiki/images/7/70/Sts2017.gs.zip\n",
            "Resolving ixa2.si.ehu.es (ixa2.si.ehu.es)... 158.227.106.100\n",
            "Connecting to ixa2.si.ehu.es (ixa2.si.ehu.es)|158.227.106.100|:80... connected.\n",
            "HTTP request sent, awaiting response... 302 Found\n",
            "Location: http://ixa2.si.ehu.eus/stswiki/images/7/70/Sts2017.gs.zip [following]\n",
            "--2023-06-26 06:48:37--  http://ixa2.si.ehu.eus/stswiki/images/7/70/Sts2017.gs.zip\n",
            "Resolving ixa2.si.ehu.eus (ixa2.si.ehu.eus)... 158.227.106.100\n",
            "Connecting to ixa2.si.ehu.eus (ixa2.si.ehu.eus)|158.227.106.100|:80... connected.\n",
            "HTTP request sent, awaiting response... 200 OK\n",
            "Length: 3138 (3.1K) [application/zip]\n",
            "Saving to: ‘Sts2017.gs.zip’\n",
            "\n",
            "Sts2017.gs.zip      100%[===================>]   3.06K  --.-KB/s    in 0s      \n",
            "\n",
            "2023-06-26 06:48:38 (510 MB/s) - ‘Sts2017.gs.zip’ saved [3138/3138]\n",
            "\n",
            "Archive:  Sts2017.gs.zip\n",
            "   creating: STS2017.gs/\n",
            "  inflating: STS2017.gs/STS.gs.track1.ar-ar.txt  \n",
            "  inflating: STS2017.gs/STS.gs.track2.ar-en.txt  \n",
            "  inflating: STS2017.gs/STS.gs.track3.es-es.txt  \n",
            "  inflating: STS2017.gs/STS.gs.track4a.es-en.txt  \n",
            "  inflating: STS2017.gs/STS.gs.track4b.es-en.txt  \n",
            "  inflating: STS2017.gs/STS.gs.track5.en-en.txt  \n",
            "  inflating: STS2017.gs/STS.gs.track6.tr-en.txt  \n",
            "--2023-06-26 06:48:38--  http://ixa2.si.ehu.es/stswiki/images/4/48/Stsbenchmark.tar.gz\n",
            "Resolving ixa2.si.ehu.es (ixa2.si.ehu.es)... 158.227.106.100\n",
            "Connecting to ixa2.si.ehu.es (ixa2.si.ehu.es)|158.227.106.100|:80... connected.\n",
            "HTTP request sent, awaiting response... 302 Found\n",
            "Location: http://ixa2.si.ehu.eus/stswiki/images/4/48/Stsbenchmark.tar.gz [following]\n",
            "--2023-06-26 06:48:38--  http://ixa2.si.ehu.eus/stswiki/images/4/48/Stsbenchmark.tar.gz\n",
            "Resolving ixa2.si.ehu.eus (ixa2.si.ehu.eus)... 158.227.106.100\n",
            "Connecting to ixa2.si.ehu.eus (ixa2.si.ehu.eus)|158.227.106.100|:80... connected.\n",
            "HTTP request sent, awaiting response... 200 OK\n",
            "Length: 409630 (400K) [application/x-gzip]\n",
            "Saving to: ‘Stsbenchmark.tar.gz’\n",
            "\n",
            "Stsbenchmark.tar.gz 100%[===================>] 400.03K   302KB/s    in 1.3s    \n",
            "\n",
            "2023-06-26 06:48:40 (302 KB/s) - ‘Stsbenchmark.tar.gz’ saved [409630/409630]\n",
            "\n",
            "stsbenchmark/\n",
            "stsbenchmark/readme.txt\n",
            "stsbenchmark/sts-test.csv\n",
            "stsbenchmark/correlation.pl\n",
            "stsbenchmark/LICENSE.txt\n",
            "stsbenchmark/sts-dev.csv\n",
            "stsbenchmark/sts-train.csv\n",
            "--2023-06-26 06:48:40--  http://alt.qcri.org/semeval2014/task1/data/uploads/sick_test_annotated.zip\n",
            "Resolving alt.qcri.org (alt.qcri.org)... 80.76.166.231\n",
            "Connecting to alt.qcri.org (alt.qcri.org)|80.76.166.231|:80... connected.\n",
            "HTTP request sent, awaiting response... 302 Moved Temporarily\n",
            "Location: https://alt.qcri.org/semeval2014/task1/data/uploads/sick_test_annotated.zip [following]\n",
            "--2023-06-26 06:48:40--  https://alt.qcri.org/semeval2014/task1/data/uploads/sick_test_annotated.zip\n",
            "Connecting to alt.qcri.org (alt.qcri.org)|80.76.166.231|:443... connected.\n",
            "HTTP request sent, awaiting response... 200 OK\n",
            "Length: 93443 (91K) [application/zip]\n",
            "Saving to: ‘sick_test_annotated.zip’\n",
            "\n",
            "sick_test_annotated 100%[===================>]  91.25K   452KB/s    in 0.2s    \n",
            "\n",
            "2023-06-26 06:48:41 (452 KB/s) - ‘sick_test_annotated.zip’ saved [93443/93443]\n",
            "\n",
            "Archive:  sick_test_annotated.zip\n",
            "  inflating: SICK/SICK_test_annotated.txt  \n",
            "  inflating: SICK/readme.txt         \n",
            "\u001b[33mThe currently activated Python version 3.10.12 is not supported by the project (^3.7,<3.10).\n",
            "Trying to find and use a compatible version.\u001b[39m \n",
            "Using \u001b[36mpython3.8\u001b[39m (3.8.10)\n",
            "sum of\tall lines:\t 122319\n",
            "sum of\twords:\t 36767\n",
            "sum of\ttrain words:\t 29413\n",
            "sum of\tvalid words:\t 3677\n",
            "sum of\ttest words:\t 3677\n",
            "sum of\ttrain lines:\t 97766\n",
            "sum of\tvalid lines:\t 11945\n",
            "sum of\ttest lines:\t 12608\n"
          ]
        }
      ],
      "source": [
        "!bash ./scripts/download-dataset.sh\n",
        "!/root/.local/bin/poetry run python src/scripts/extract_data_from_ishiwatari.py"
      ]
    },
    {
      "cell_type": "markdown",
      "source": [
        "## Run experiments on Bert-base-cls and RoBERTa-base-cls"
      ],
      "metadata": {
        "id": "g1cqb4tneytK"
      }
    },
    {
      "cell_type": "code",
      "execution_count": 15,
      "metadata": {
        "id": "ndTBzOfMz-4R",
        "colab": {
          "base_uri": "https://localhost:8080/"
        },
        "outputId": "aa1a48b3-1c28-4efa-91f7-f7a32a9907fb"
      },
      "outputs": [
        {
          "output_type": "stream",
          "name": "stdout",
          "text": [
            "\u001b[33mThe currently activated Python version 3.10.12 is not supported by the project (^3.7,<3.10).\n",
            "Trying to find and use a compatible version.\u001b[39m \n",
            "Using \u001b[36mpython3\u001b[39m (3.7.17)\n",
            "GPU available: True, used: True\n",
            "TPU available: False, using: 0 TPU cores\n",
            "[\u001b[36m2023-06-26 06:54:31,225\u001b[0m][\u001b[34mfilelock\u001b[0m][\u001b[32mINFO\u001b[0m] - Lock 140128413077904 acquired on /root/.cache/huggingface/transformers/3c61d016573b14f7f008c02c4e51a366c67ab274726fe2910691e2a761acf43e.37395cee442ab11005bcd270f3c34464dc1704b715b5d7d52b1a461abe3b9e4e.lock\u001b[0m\n",
            "Downloading: 100% 570/570 [00:00<00:00, 505kB/s]\n",
            "[\u001b[36m2023-06-26 06:54:31,493\u001b[0m][\u001b[34mfilelock\u001b[0m][\u001b[32mINFO\u001b[0m] - Lock 140128413077904 released on /root/.cache/huggingface/transformers/3c61d016573b14f7f008c02c4e51a366c67ab274726fe2910691e2a761acf43e.37395cee442ab11005bcd270f3c34464dc1704b715b5d7d52b1a461abe3b9e4e.lock\u001b[0m\n",
            "[\u001b[36m2023-06-26 06:54:31,751\u001b[0m][\u001b[34mfilelock\u001b[0m][\u001b[32mINFO\u001b[0m] - Lock 140128413018704 acquired on /root/.cache/huggingface/transformers/a8041bf617d7f94ea26d15e218abd04afc2004805632abc0ed2066aa16d50d04.faf6ea826ae9c5867d12b22257f9877e6b8367890837bd60f7c54a29633f7f2f.lock\u001b[0m\n",
            "Downloading: 100% 440M/440M [00:07<00:00, 62.0MB/s]\n",
            "[\u001b[36m2023-06-26 06:54:38,876\u001b[0m][\u001b[34mfilelock\u001b[0m][\u001b[32mINFO\u001b[0m] - Lock 140128413018704 released on /root/.cache/huggingface/transformers/a8041bf617d7f94ea26d15e218abd04afc2004805632abc0ed2066aa16d50d04.faf6ea826ae9c5867d12b22257f9877e6b8367890837bd60f7c54a29633f7f2f.lock\u001b[0m\n",
            "Some weights of the model checkpoint at bert-base-uncased were not used when initializing BertForMaskedLM: ['cls.seq_relationship.bias', 'cls.seq_relationship.weight']\n",
            "- This IS expected if you are initializing BertForMaskedLM from the checkpoint of a model trained on another task or with another architecture (e.g. initializing a BertForSequenceClassification model from a BertForPreTraining model).\n",
            "- This IS NOT expected if you are initializing BertForMaskedLM from the checkpoint of a model that you expect to be exactly identical (initializing a BertForSequenceClassification model from a BertForSequenceClassification model).\n",
            "[\u001b[36m2023-06-26 06:54:42,250\u001b[0m][\u001b[34mfilelock\u001b[0m][\u001b[32mINFO\u001b[0m] - Lock 140126952940816 acquired on /root/.cache/huggingface/transformers/c1d7f0a763fb63861cc08553866f1fc3e5a6f4f07621be277452d26d71303b7e.20430bd8e10ef77a7d2977accefe796051e01bc2fc4aa146bc862997a1a15e79.lock\u001b[0m\n",
            "Downloading: 100% 28.0/28.0 [00:00<00:00, 10.0kB/s]\n",
            "[\u001b[36m2023-06-26 06:54:42,512\u001b[0m][\u001b[34mfilelock\u001b[0m][\u001b[32mINFO\u001b[0m] - Lock 140126952940816 released on /root/.cache/huggingface/transformers/c1d7f0a763fb63861cc08553866f1fc3e5a6f4f07621be277452d26d71303b7e.20430bd8e10ef77a7d2977accefe796051e01bc2fc4aa146bc862997a1a15e79.lock\u001b[0m\n",
            "[\u001b[36m2023-06-26 06:54:43,950\u001b[0m][\u001b[34mfilelock\u001b[0m][\u001b[32mINFO\u001b[0m] - Lock 140128198138640 acquired on /root/.cache/huggingface/transformers/45c3f7a79a80e1cf0a489e5c62b43f173c15db47864303a55d623bb3c96f72a5.cf47717d443acbff3940da39f5ddd0b17179607321d46f2c0a5060d2264eefd0.lock\u001b[0m\n",
            "Downloading: 232kB [00:00, 989kB/s] \n",
            "[\u001b[36m2023-06-26 06:54:44,446\u001b[0m][\u001b[34mfilelock\u001b[0m][\u001b[32mINFO\u001b[0m] - Lock 140128198138640 released on /root/.cache/huggingface/transformers/45c3f7a79a80e1cf0a489e5c62b43f173c15db47864303a55d623bb3c96f72a5.cf47717d443acbff3940da39f5ddd0b17179607321d46f2c0a5060d2264eefd0.lock\u001b[0m\n",
            "[\u001b[36m2023-06-26 06:54:44,709\u001b[0m][\u001b[34mfilelock\u001b[0m][\u001b[32mINFO\u001b[0m] - Lock 140128198139152 acquired on /root/.cache/huggingface/transformers/534479488c54aeaf9c3406f647aa2ec13648c06771ffe269edabebd4c412da1d.53241bddd84f83cd6f1881886465d84bbf4f27be795658add74bee2568ac4587.lock\u001b[0m\n",
            "Downloading: 466kB [00:00, 963kB/s]\n",
            "[\u001b[36m2023-06-26 06:54:45,468\u001b[0m][\u001b[34mfilelock\u001b[0m][\u001b[32mINFO\u001b[0m] - Lock 140128198139152 released on /root/.cache/huggingface/transformers/534479488c54aeaf9c3406f647aa2ec13648c06771ffe269edabebd4c412da1d.53241bddd84f83cd6f1881886465d84bbf4f27be795658add74bee2568ac4587.lock\u001b[0m\n",
            "LOCAL_RANK: 0 - CUDA_VISIBLE_DEVICES: [0]\n",
            "\n",
            "  | Name  | Type    | Params\n",
            "----------------------------------\n",
            "0 | model | DefSent | 109 M \n",
            "----------------------------------\n",
            "85.1 M    Trainable params\n",
            "24.5 M    Non-trainable params\n",
            "109 M     Total params\n",
            "438.057   Total estimated model params size (MB)\n",
            "Validation sanity check:   0% 0/2 [00:00<?, ?it/s]Experiment with name BERT-base-CLS not found. Creating it.\n",
            "Epoch 0:  90% 3420/3797 [06:17<00:41,  9.07it/s, loss=4.67, v_num=6ce8]\n",
            "Validating: 0it [00:00, ?it/s]\u001b[A\n",
            "Validating:   0% 0/395 [00:00<?, ?it/s]\u001b[A\n",
            "Epoch 0:  91% 3440/3797 [06:17<00:39,  9.11it/s, loss=4.67, v_num=6ce8]\n",
            "Epoch 0:  91% 3460/3797 [06:18<00:36,  9.15it/s, loss=4.67, v_num=6ce8]\n",
            "Epoch 0:  92% 3480/3797 [06:19<00:34,  9.18it/s, loss=4.67, v_num=6ce8]\n",
            "Epoch 0:  92% 3500/3797 [06:19<00:32,  9.22it/s, loss=4.67, v_num=6ce8]\n",
            "Epoch 0:  93% 3520/3797 [06:20<00:29,  9.26it/s, loss=4.67, v_num=6ce8]\n",
            "Epoch 0:  93% 3540/3797 [06:20<00:27,  9.29it/s, loss=4.67, v_num=6ce8]\n",
            "Epoch 0:  94% 3560/3797 [06:21<00:25,  9.33it/s, loss=4.67, v_num=6ce8]\n",
            "Epoch 0:  94% 3580/3797 [06:22<00:23,  9.37it/s, loss=4.67, v_num=6ce8]\n",
            "Epoch 0:  95% 3600/3797 [06:22<00:20,  9.40it/s, loss=4.67, v_num=6ce8]\n",
            "Epoch 0:  95% 3620/3797 [06:23<00:18,  9.44it/s, loss=4.67, v_num=6ce8]\n",
            "Epoch 0:  96% 3640/3797 [06:23<00:16,  9.48it/s, loss=4.67, v_num=6ce8]\n",
            "Epoch 0:  96% 3660/3797 [06:24<00:14,  9.51it/s, loss=4.67, v_num=6ce8]\n",
            "Epoch 0:  97% 3680/3797 [06:25<00:12,  9.55it/s, loss=4.67, v_num=6ce8]\n",
            "Epoch 0:  97% 3700/3797 [06:25<00:10,  9.59it/s, loss=4.67, v_num=6ce8]\n",
            "Epoch 0:  98% 3720/3797 [06:26<00:08,  9.62it/s, loss=4.67, v_num=6ce8]\n",
            "Epoch 0:  98% 3740/3797 [06:27<00:05,  9.66it/s, loss=4.67, v_num=6ce8]\n",
            "Epoch 0:  99% 3760/3797 [06:27<00:03,  9.69it/s, loss=4.67, v_num=6ce8]\n",
            "Epoch 0: 100% 3780/3797 [06:28<00:01,  9.73it/s, loss=4.67, v_num=6ce8]\n",
            "Validating:  96% 380/395 [00:12<00:00, 30.51it/s]\u001b[A\n",
            "Epoch 0: 100% 3797/3797 [06:29<00:00,  9.74it/s, loss=4.92, v_num=6ce8]\n",
            "Epoch 0: 100% 3797/3797 [06:29<00:00,  9.74it/s, loss=4.92, v_num=6ce8]\n",
            "100% 3402/3402 [02:31<00:00, 22.42it/s]\n",
            "100% 395/395 [00:18<00:00, 21.05it/s]\n",
            "100% 431/431 [00:19<00:00, 21.82it/s]\n",
            "100% 7/7 [02:06<00:00, 18.10s/it]\n"
          ]
        }
      ],
      "source": [
        "!/root/.local/bin/poetry run python main.py save_model=True gpus=[0] experiment_name=BERT-base-CLS model_name=bert-base-uncased pooling_name=CLS lr=5.656854249492381e-06"
      ]
    },
    {
      "cell_type": "code",
      "source": [
        "!/root/.local/bin/poetry run python main.py save_model=True gpus=[0] experiment_name=RoBERTa-base-CLS model_name=roberta-base pooling_name=CLS lr=5.656854249492381e-06"
      ],
      "metadata": {
        "colab": {
          "base_uri": "https://localhost:8080/"
        },
        "id": "9NGEZ1xBeRss",
        "outputId": "38966c15-61f6-47ab-84ff-9b340d3153f0"
      },
      "execution_count": 16,
      "outputs": [
        {
          "output_type": "stream",
          "name": "stdout",
          "text": [
            "\u001b[33mThe currently activated Python version 3.10.12 is not supported by the project (^3.7,<3.10).\n",
            "Trying to find and use a compatible version.\u001b[39m \n",
            "Using \u001b[36mpython3\u001b[39m (3.7.17)\n",
            "GPU available: True, used: True\n",
            "TPU available: False, using: 0 TPU cores\n",
            "[\u001b[36m2023-06-26 07:07:04,493\u001b[0m][\u001b[34mfilelock\u001b[0m][\u001b[32mINFO\u001b[0m] - Lock 140149541432592 acquired on /root/.cache/huggingface/transformers/733bade19e5f0ce98e6531021dd5180994bb2f7b8bd7e80c7968805834ba351e.35205c6cfc956461d8515139f0f8dd5d207a2f336c0c3a83b4bc8dca3518e37b.lock\u001b[0m\n",
            "Downloading: 100% 481/481 [00:00<00:00, 463kB/s]\n",
            "[\u001b[36m2023-06-26 07:07:04,752\u001b[0m][\u001b[34mfilelock\u001b[0m][\u001b[32mINFO\u001b[0m] - Lock 140149541432592 released on /root/.cache/huggingface/transformers/733bade19e5f0ce98e6531021dd5180994bb2f7b8bd7e80c7968805834ba351e.35205c6cfc956461d8515139f0f8dd5d207a2f336c0c3a83b4bc8dca3518e37b.lock\u001b[0m\n",
            "[\u001b[36m2023-06-26 07:07:05,006\u001b[0m][\u001b[34mfilelock\u001b[0m][\u001b[32mINFO\u001b[0m] - Lock 140149399043472 acquired on /root/.cache/huggingface/transformers/51ba668f7ff34e7cdfa9561e8361747738113878850a7d717dbc69de8683aaad.c7efaa30a0d80b2958b876969faa180e485944a849deee4ad482332de65365a7.lock\u001b[0m\n",
            "Downloading: 100% 501M/501M [00:11<00:00, 43.0MB/s]\n",
            "[\u001b[36m2023-06-26 07:07:16,745\u001b[0m][\u001b[34mfilelock\u001b[0m][\u001b[32mINFO\u001b[0m] - Lock 140149399043472 released on /root/.cache/huggingface/transformers/51ba668f7ff34e7cdfa9561e8361747738113878850a7d717dbc69de8683aaad.c7efaa30a0d80b2958b876969faa180e485944a849deee4ad482332de65365a7.lock\u001b[0m\n",
            "[\u001b[36m2023-06-26 07:07:21,233\u001b[0m][\u001b[34mfilelock\u001b[0m][\u001b[32mINFO\u001b[0m] - Lock 140149399278864 acquired on /root/.cache/huggingface/transformers/d3ccdbfeb9aaa747ef20432d4976c32ee3fa69663b379deb253ccfce2bb1fdc5.e49ef69a5212fcb1a98d9c26cd751f74ba8c3f71febc7b7164f23817267c2937.lock\u001b[0m\n",
            "Downloading: 899kB [00:00, 1.33MB/s]\n",
            "[\u001b[36m2023-06-26 07:07:22,179\u001b[0m][\u001b[34mfilelock\u001b[0m][\u001b[32mINFO\u001b[0m] - Lock 140149399278864 released on /root/.cache/huggingface/transformers/d3ccdbfeb9aaa747ef20432d4976c32ee3fa69663b379deb253ccfce2bb1fdc5.e49ef69a5212fcb1a98d9c26cd751f74ba8c3f71febc7b7164f23817267c2937.lock\u001b[0m\n",
            "[\u001b[36m2023-06-26 07:07:22,487\u001b[0m][\u001b[34mfilelock\u001b[0m][\u001b[32mINFO\u001b[0m] - Lock 140149399278864 acquired on /root/.cache/huggingface/transformers/cafdecc90fcab17011e12ac813dd574b4b3fea39da6dd817813efa010262ff3f.5225f3f23a2ce08eaa35add5b848196bf5e823c5495d74d3dd1267950836ba9d.lock\u001b[0m\n",
            "Downloading: 456kB [00:00, 965kB/s]\n",
            "[\u001b[36m2023-06-26 07:07:23,675\u001b[0m][\u001b[34mfilelock\u001b[0m][\u001b[32mINFO\u001b[0m] - Lock 140149399278864 released on /root/.cache/huggingface/transformers/cafdecc90fcab17011e12ac813dd574b4b3fea39da6dd817813efa010262ff3f.5225f3f23a2ce08eaa35add5b848196bf5e823c5495d74d3dd1267950836ba9d.lock\u001b[0m\n",
            "[\u001b[36m2023-06-26 07:07:23,931\u001b[0m][\u001b[34mfilelock\u001b[0m][\u001b[32mINFO\u001b[0m] - Lock 140149389107792 acquired on /root/.cache/huggingface/transformers/d53fc0fa09b8342651efd4073d75e19617b3e51287c2a535becda5808a8db287.5bcbf426adcb46f058553cdd0bb0fdf0c9d9769749bb2620dd2406e8290ea6cc.lock\u001b[0m\n",
            "Downloading: 1.36MB [00:00, 1.51MB/s]\n",
            "[\u001b[36m2023-06-26 07:07:25,128\u001b[0m][\u001b[34mfilelock\u001b[0m][\u001b[32mINFO\u001b[0m] - Lock 140149389107792 released on /root/.cache/huggingface/transformers/d53fc0fa09b8342651efd4073d75e19617b3e51287c2a535becda5808a8db287.5bcbf426adcb46f058553cdd0bb0fdf0c9d9769749bb2620dd2406e8290ea6cc.lock\u001b[0m\n",
            "LOCAL_RANK: 0 - CUDA_VISIBLE_DEVICES: [0]\n",
            "\n",
            "  | Name  | Type    | Params\n",
            "----------------------------------\n",
            "0 | model | DefSent | 124 M \n",
            "----------------------------------\n",
            "85.1 M    Trainable params\n",
            "39.6 M    Non-trainable params\n",
            "124 M     Total params\n",
            "498.790   Total estimated model params size (MB)\n",
            "Validation sanity check:   0% 0/2 [00:00<?, ?it/s]Experiment with name RoBERTa-base-CLS not found. Creating it.\n",
            "Epoch 0:  90% 3400/3786 [06:11<00:42,  9.14it/s, loss=4.59, v_num=3fd8]\n",
            "Validating: 0it [00:00, ?it/s]\u001b[A\n",
            "Validating:   0% 0/403 [00:00<?, ?it/s]\u001b[A\n",
            "Epoch 0:  90% 3420/3786 [06:12<00:39,  9.18it/s, loss=4.59, v_num=3fd8]\n",
            "Epoch 0:  91% 3440/3786 [06:13<00:37,  9.22it/s, loss=4.59, v_num=3fd8]\n",
            "Epoch 0:  91% 3460/3786 [06:13<00:35,  9.26it/s, loss=4.59, v_num=3fd8]\n",
            "Epoch 0:  92% 3480/3786 [06:14<00:32,  9.30it/s, loss=4.59, v_num=3fd8]\n",
            "Epoch 0:  92% 3500/3786 [06:14<00:30,  9.34it/s, loss=4.59, v_num=3fd8]\n",
            "Epoch 0:  93% 3520/3786 [06:15<00:28,  9.37it/s, loss=4.59, v_num=3fd8]\n",
            "Epoch 0:  94% 3540/3786 [06:16<00:26,  9.41it/s, loss=4.59, v_num=3fd8]\n",
            "Epoch 0:  94% 3560/3786 [06:16<00:23,  9.45it/s, loss=4.59, v_num=3fd8]\n",
            "Epoch 0:  95% 3580/3786 [06:17<00:21,  9.49it/s, loss=4.59, v_num=3fd8]\n",
            "Epoch 0:  95% 3600/3786 [06:17<00:19,  9.53it/s, loss=4.59, v_num=3fd8]\n",
            "Epoch 0:  96% 3620/3786 [06:18<00:17,  9.57it/s, loss=4.59, v_num=3fd8]\n",
            "Epoch 0:  96% 3640/3786 [06:19<00:15,  9.60it/s, loss=4.59, v_num=3fd8]\n",
            "Epoch 0:  97% 3660/3786 [06:19<00:13,  9.64it/s, loss=4.59, v_num=3fd8]\n",
            "Epoch 0:  97% 3680/3786 [06:20<00:10,  9.68it/s, loss=4.59, v_num=3fd8]\n",
            "Epoch 0:  98% 3700/3786 [06:20<00:08,  9.72it/s, loss=4.59, v_num=3fd8]\n",
            "Epoch 0:  98% 3720/3786 [06:21<00:06,  9.75it/s, loss=4.59, v_num=3fd8]\n",
            "Epoch 0:  99% 3740/3786 [06:22<00:04,  9.79it/s, loss=4.59, v_num=3fd8]\n",
            "Epoch 0:  99% 3760/3786 [06:22<00:02,  9.83it/s, loss=4.59, v_num=3fd8]\n",
            "Epoch 0: 100% 3780/3786 [06:23<00:00,  9.86it/s, loss=4.59, v_num=3fd8]\n",
            "Epoch 0: 100% 3786/3786 [06:24<00:00,  9.86it/s, loss=4.45, v_num=3fd8]\n",
            "Epoch 0: 100% 3786/3786 [06:24<00:00,  9.86it/s, loss=4.45, v_num=3fd8]\n",
            "100% 3383/3383 [02:33<00:00, 22.09it/s]\n",
            "100% 403/403 [00:17<00:00, 22.49it/s]\n",
            "100% 434/434 [00:19<00:00, 22.09it/s]\n",
            "100% 7/7 [02:00<00:00, 17.22s/it]\n"
          ]
        }
      ]
    },
    {
      "cell_type": "markdown",
      "source": [
        "### You models and Word prediction tasks evaluation were save in:\n",
        "> ./defsent/experiments/logs/runs/\\<experiment-name\\>."
      ],
      "metadata": {
        "id": "ydGH83LMfq3i"
      }
    },
    {
      "cell_type": "markdown",
      "source": [
        "## ML Flow server for visualization"
      ],
      "metadata": {
        "id": "jacmdtbreezF"
      }
    },
    {
      "cell_type": "code",
      "source": [
        "!/root/.local/bin/poetry run mlflow ui"
      ],
      "metadata": {
        "colab": {
          "base_uri": "https://localhost:8080/"
        },
        "id": "4ZvV63fAeked",
        "outputId": "c607699d-afdc-4584-daa5-369c014c49ae"
      },
      "execution_count": 17,
      "outputs": [
        {
          "output_type": "stream",
          "name": "stdout",
          "text": [
            "\u001b[33mThe currently activated Python version 3.10.12 is not supported by the project (^3.7,<3.10).\n",
            "Trying to find and use a compatible version.\u001b[39m \n",
            "Using \u001b[36mpython3\u001b[39m (3.7.17)\n",
            "[2023-06-26 07:19:30 +0000] [11491] [INFO] Starting gunicorn 20.1.0\n",
            "[2023-06-26 07:19:30 +0000] [11491] [INFO] Listening at: http://127.0.0.1:5000 (11491)\n",
            "[2023-06-26 07:19:30 +0000] [11491] [INFO] Using worker: sync\n",
            "[2023-06-26 07:19:30 +0000] [11494] [INFO] Booting worker with pid: 11494\n",
            "\n",
            "[2023-06-26 08:52:58 +0000] [11491] [INFO] Handling signal: int\n",
            "Aborted!\n",
            "[2023-06-26 08:52:58 +0000] [11494] [INFO] Worker exiting (pid: 11494)\n",
            "[2023-06-26 08:52:58 +0000] [11491] [INFO] Shutting down: Master\n"
          ]
        }
      ]
    },
    {
      "cell_type": "markdown",
      "source": [
        "## Done! You can share model now."
      ],
      "metadata": {
        "id": "_vDtomARfl2j"
      }
    },
    {
      "cell_type": "code",
      "source": [
        "#<!-- example -->\n",
        "!huggingface-cli repo create defsent-bert-base-uncased-cls\n",
        "!git clone https://huggingface.co/cl-nagoya/defsent-bert-base-uncased-cls\n",
        "!mv /path/to/saved_model_bert/* ./defsent-bert-base-uncased-cls/\n",
        "!mv /path/to/saved_model_roberta/* ./defsent-roberta-base-uncased-cls/\n",
        "!cd ./defsent-bert-base-uncased-cls/\n",
        "!git add -A\n",
        "!git commit -m \":tada: Add pre-trained model\""
      ],
      "metadata": {
        "colab": {
          "base_uri": "https://localhost:8080/"
        },
        "id": "YqRSyFs-fRxq",
        "outputId": "31c452d6-dd2f-4086-c0ba-60ca0a41c92d"
      },
      "execution_count": 19,
      "outputs": [
        {
          "output_type": "stream",
          "name": "stdout",
          "text": [
            "Traceback (most recent call last):\n",
            "  File \"/usr/local/bin/huggingface-cli\", line 5, in <module>\n",
            "    from huggingface_hub.commands.huggingface_cli import main\n",
            "ModuleNotFoundError: No module named 'huggingface_hub'\n",
            "Cloning into 'defsent-bert-base-uncased-cls'...\n",
            "remote: Enumerating objects: 11, done.\u001b[K\n",
            "remote: Total 11 (delta 0), reused 0 (delta 0), pack-reused 11\u001b[K\n",
            "Unpacking objects: 100% (11/11), 296.87 KiB | 10.60 MiB/s, done.\n",
            "warning: Clone succeeded, but checkout failed.\n",
            "You can inspect what was checked out with 'git status'\n",
            "and retry with 'git restore --source=HEAD :/'\n",
            "\n",
            "\n",
            "Exiting because of \"interrupt\" signal.\n",
            "^C\n",
            "mv: cannot stat '/path/to/saved_model_bert/*': No such file or directory\n",
            "mv: cannot stat '/path/to/saved_model_roberta/*': No such file or directory\n",
            "warning: adding embedded git repository: experiments/defsent-bert-base-uncased-cls\n",
            "\u001b[33mhint: You've added another git repository inside your current repository.\u001b[m\n",
            "\u001b[33mhint: Clones of the outer repository will not contain the contents of\u001b[m\n",
            "\u001b[33mhint: the embedded repository and will not know how to obtain it.\u001b[m\n",
            "\u001b[33mhint: If you meant to add a submodule, use:\u001b[m\n",
            "\u001b[33mhint: \u001b[m\n",
            "\u001b[33mhint: \tgit submodule add <url> experiments/defsent-bert-base-uncased-cls\u001b[m\n",
            "\u001b[33mhint: \u001b[m\n",
            "\u001b[33mhint: If you added this path by mistake, you can remove it from the\u001b[m\n",
            "\u001b[33mhint: index with:\u001b[m\n",
            "\u001b[33mhint: \u001b[m\n",
            "\u001b[33mhint: \tgit rm --cached experiments/defsent-bert-base-uncased-cls\u001b[m\n",
            "\u001b[33mhint: \u001b[m\n",
            "\u001b[33mhint: See \"git help submodule\" for more information.\u001b[m\n",
            "\n",
            "*** Please tell me who you are.\n",
            "\n",
            "Run\n",
            "\n",
            "  git config --global user.email \"you@example.com\"\n",
            "  git config --global user.name \"Your Name\"\n",
            "\n",
            "to set your account's default identity.\n",
            "Omit --global to set the identity only in this repository.\n",
            "\n",
            "fatal: unable to auto-detect email address (got 'root@ea27153f217a.(none)')\n"
          ]
        }
      ]
    },
    {
      "cell_type": "markdown",
      "source": [
        "## Optional: Format file"
      ],
      "metadata": {
        "id": "qoQowG4yfC8Y"
      }
    },
    {
      "cell_type": "code",
      "source": [
        "!/root/.local/bin/poetry run pysen run format"
      ],
      "metadata": {
        "colab": {
          "base_uri": "https://localhost:8080/"
        },
        "id": "hwSCQfh8fKy9",
        "outputId": "cfd0c840-ce66-45b7-8f29-8fa50b690edb"
      },
      "execution_count": 18,
      "outputs": [
        {
          "output_type": "stream",
          "name": "stdout",
          "text": [
            "\u001b[33mThe currently activated Python version 3.10.12 is not supported by the project (^3.7,<3.10).\n",
            "Trying to find and use a compatible version.\u001b[39m \n",
            "Using \u001b[36mpython3\u001b[39m (3.7.17)\n",
            "\u001b[32mRunning commands\u001b[0m\n",
            "\u001b[32mRunning: isort\u001b[0m\n",
            "\u001b[32mChecking 13 files\u001b[0m\n",
            "\u001b[32mRunning: black\u001b[0m\n",
            "\u001b[32mChecking 13 files\u001b[0m\n",
            "\u001b[33mreformatted /content/defsent/experiments/src/data_module.py\u001b[0m\n",
            "\u001b[33mreformatted /content/defsent/experiments/src/experiment.py\u001b[0m\n",
            "\u001b[33mreformatted /content/defsent/experiments/src/model.py\u001b[0m\n",
            "\u001b[33mreformatted /content/defsent/experiments/src/utils.py\u001b[0m\n",
            "\u001b[33mAll done! ✨ 🍰 ✨\u001b[0m\n",
            "\u001b[33m4 files reformatted, 9 files left unchanged.\u001b[0m\n",
            "\n",
            " ** execution summary **\n",
            "isort .......... OK (0.61 sec)\n",
            "black .......... OK (1.69 sec)\n",
            "\n"
          ]
        }
      ]
    }
  ],
  "metadata": {
    "accelerator": "GPU",
    "colab": {
      "provenance": []
    },
    "kernelspec": {
      "display_name": "Python 3",
      "name": "python3"
    },
    "language_info": {
      "name": "python"
    }
  },
  "nbformat": 4,
  "nbformat_minor": 0
}